{
 "cells": [
  {
   "cell_type": "markdown",
   "metadata": {},
   "source": [
    "# Introduction"
   ]
  },
  {
   "cell_type": "markdown",
   "metadata": {},
   "source": [
    "## What is A/B Testing?"
   ]
  },
  {
   "cell_type": "markdown",
   "metadata": {},
   "source": [
    "* Test different ideas against each other in the real world. \n",
    "* Choose the idea that statistically performs better."
   ]
  },
  {
   "cell_type": "markdown",
   "metadata": {},
   "source": [
    "## Why A/B Testing?"
   ]
  },
  {
   "cell_type": "markdown",
   "metadata": {},
   "source": [
    "* No guessing\n",
    "* Provide accurate answers quickly\n",
    "* Allows rapidly iterate on ideas\n",
    "* The only statistically sound way to establish causal relationship"
   ]
  },
  {
   "cell_type": "markdown",
   "metadata": {},
   "source": [
    "## How to A/B test?"
   ]
  },
  {
   "cell_type": "markdown",
   "metadata": {},
   "source": [
    "1) Develop hypothesis about you product and business\n",
    "\n",
    "2) Randomly assign users to two different groups\n",
    "\n",
    "3) Expose:\n",
    "    * Group 1 to the current product rules (control group)\n",
    "    * Group 2 to a product that tests the hypothesis (treatment group)\n",
    "\n",
    "4) Pick whichever performs better according to a set of KPIs"
   ]
  },
  {
   "cell_type": "markdown",
   "metadata": {},
   "source": [
    "## Where can A/B Testing be Used?"
   ]
  },
  {
   "cell_type": "markdown",
   "metadata": {},
   "source": [
    "As long as there is users and ideas. Exp:\n",
    "\n",
    "* Drug testing\n",
    "* Mobile Games \n",
    "* Subscription\n",
    "* and many more!"
   ]
  },
  {
   "cell_type": "markdown",
   "metadata": {},
   "source": [
    "## About the dataset"
   ]
  },
  {
   "cell_type": "markdown",
   "metadata": {},
   "source": [
    "Meditation App \n",
    "\n",
    "Services:\n",
    "* Paid Subscription\n",
    "* In-app purchase\n",
    "\n",
    "Goals/KPIs:\n",
    "* Maintain high free -> paid conversion rate\n",
    "\n",
    "Conversion rate: % of users who subscribe after the free trial"
   ]
  },
  {
   "cell_type": "markdown",
   "metadata": {},
   "source": [
    "# Import Packages, Dataset"
   ]
  },
  {
   "cell_type": "code",
   "execution_count": 77,
   "metadata": {
    "ExecuteTime": {
     "end_time": "2020-09-01T03:51:58.171212Z",
     "start_time": "2020-09-01T03:51:58.167134Z"
    }
   },
   "outputs": [],
   "source": [
    "import pandas as pd\n",
    "import datetime\n",
    "import numpy as np\n",
    "from datetime import datetime, timedelta\n",
    "import matplotlib.pyplot as plt\n",
    "from scipy.stats import norm"
   ]
  },
  {
   "cell_type": "markdown",
   "metadata": {},
   "source": [
    "## User Demographics"
   ]
  },
  {
   "cell_type": "code",
   "execution_count": 2,
   "metadata": {
    "ExecuteTime": {
     "end_time": "2020-09-01T03:24:21.026511Z",
     "start_time": "2020-09-01T03:24:20.959717Z"
    }
   },
   "outputs": [
    {
     "data": {
      "text/html": [
       "<div>\n",
       "<style scoped>\n",
       "    .dataframe tbody tr th:only-of-type {\n",
       "        vertical-align: middle;\n",
       "    }\n",
       "\n",
       "    .dataframe tbody tr th {\n",
       "        vertical-align: top;\n",
       "    }\n",
       "\n",
       "    .dataframe thead th {\n",
       "        text-align: right;\n",
       "    }\n",
       "</style>\n",
       "<table border=\"1\" class=\"dataframe\">\n",
       "  <thead>\n",
       "    <tr style=\"text-align: right;\">\n",
       "      <th></th>\n",
       "      <th>uid</th>\n",
       "      <th>reg_date</th>\n",
       "      <th>device</th>\n",
       "      <th>gender</th>\n",
       "      <th>country</th>\n",
       "      <th>age</th>\n",
       "    </tr>\n",
       "  </thead>\n",
       "  <tbody>\n",
       "    <tr>\n",
       "      <th>0</th>\n",
       "      <td>54030035</td>\n",
       "      <td>2017-06-29</td>\n",
       "      <td>and</td>\n",
       "      <td>M</td>\n",
       "      <td>USA</td>\n",
       "      <td>19</td>\n",
       "    </tr>\n",
       "    <tr>\n",
       "      <th>1</th>\n",
       "      <td>72574201</td>\n",
       "      <td>2018-03-05</td>\n",
       "      <td>iOS</td>\n",
       "      <td>F</td>\n",
       "      <td>TUR</td>\n",
       "      <td>22</td>\n",
       "    </tr>\n",
       "    <tr>\n",
       "      <th>2</th>\n",
       "      <td>64187558</td>\n",
       "      <td>2016-02-07</td>\n",
       "      <td>iOS</td>\n",
       "      <td>M</td>\n",
       "      <td>USA</td>\n",
       "      <td>16</td>\n",
       "    </tr>\n",
       "    <tr>\n",
       "      <th>3</th>\n",
       "      <td>92513925</td>\n",
       "      <td>2017-05-25</td>\n",
       "      <td>and</td>\n",
       "      <td>M</td>\n",
       "      <td>BRA</td>\n",
       "      <td>41</td>\n",
       "    </tr>\n",
       "    <tr>\n",
       "      <th>4</th>\n",
       "      <td>99231338</td>\n",
       "      <td>2017-03-26</td>\n",
       "      <td>iOS</td>\n",
       "      <td>M</td>\n",
       "      <td>FRA</td>\n",
       "      <td>59</td>\n",
       "    </tr>\n",
       "  </tbody>\n",
       "</table>\n",
       "</div>"
      ],
      "text/plain": [
       "        uid   reg_date device gender country  age\n",
       "0  54030035 2017-06-29    and      M     USA   19\n",
       "1  72574201 2018-03-05    iOS      F     TUR   22\n",
       "2  64187558 2016-02-07    iOS      M     USA   16\n",
       "3  92513925 2017-05-25    and      M     BRA   41\n",
       "4  99231338 2017-03-26    iOS      M     FRA   59"
      ]
     },
     "execution_count": 2,
     "metadata": {},
     "output_type": "execute_result"
    }
   ],
   "source": [
    "customer_data = pd.read_csv(\"Datasets/customer_dataset.csv\")\n",
    "customer_data['uid'] = customer_data['uid'].astype(int)\n",
    "customer_data['reg_date'] = pd.to_datetime(customer_data['reg_date']).dt.date.astype('datetime64')\n",
    "customer_data.head()"
   ]
  },
  {
   "cell_type": "code",
   "execution_count": 3,
   "metadata": {
    "ExecuteTime": {
     "end_time": "2020-09-01T03:24:21.051993Z",
     "start_time": "2020-09-01T03:24:21.038919Z"
    }
   },
   "outputs": [
    {
     "data": {
      "text/plain": [
       "uid                  int64\n",
       "reg_date    datetime64[ns]\n",
       "device              object\n",
       "gender              object\n",
       "country             object\n",
       "age                  int64\n",
       "dtype: object"
      ]
     },
     "execution_count": 3,
     "metadata": {},
     "output_type": "execute_result"
    }
   ],
   "source": [
    "customer_data.dtypes"
   ]
  },
  {
   "cell_type": "code",
   "execution_count": 4,
   "metadata": {
    "ExecuteTime": {
     "end_time": "2020-09-01T03:24:21.068014Z",
     "start_time": "2020-09-01T03:24:21.054073Z"
    }
   },
   "outputs": [
    {
     "data": {
      "text/plain": [
       "(10000, 6)"
      ]
     },
     "execution_count": 4,
     "metadata": {},
     "output_type": "execute_result"
    }
   ],
   "source": [
    "customer_data.shape"
   ]
  },
  {
   "cell_type": "markdown",
   "metadata": {},
   "source": [
    "## User Actions"
   ]
  },
  {
   "cell_type": "code",
   "execution_count": 5,
   "metadata": {
    "ExecuteTime": {
     "end_time": "2020-09-01T03:24:21.133843Z",
     "start_time": "2020-09-01T03:24:21.070338Z"
    }
   },
   "outputs": [
    {
     "data": {
      "text/html": [
       "<div>\n",
       "<style scoped>\n",
       "    .dataframe tbody tr th:only-of-type {\n",
       "        vertical-align: middle;\n",
       "    }\n",
       "\n",
       "    .dataframe tbody tr th {\n",
       "        vertical-align: top;\n",
       "    }\n",
       "\n",
       "    .dataframe thead th {\n",
       "        text-align: right;\n",
       "    }\n",
       "</style>\n",
       "<table border=\"1\" class=\"dataframe\">\n",
       "  <thead>\n",
       "    <tr style=\"text-align: right;\">\n",
       "      <th></th>\n",
       "      <th>date</th>\n",
       "      <th>uid</th>\n",
       "      <th>sku</th>\n",
       "      <th>price</th>\n",
       "    </tr>\n",
       "  </thead>\n",
       "  <tbody>\n",
       "    <tr>\n",
       "      <th>0</th>\n",
       "      <td>2017-07-10</td>\n",
       "      <td>41195147</td>\n",
       "      <td>sku_three_499</td>\n",
       "      <td>499</td>\n",
       "    </tr>\n",
       "    <tr>\n",
       "      <th>1</th>\n",
       "      <td>2017-07-15</td>\n",
       "      <td>41195147</td>\n",
       "      <td>sku_three_499</td>\n",
       "      <td>499</td>\n",
       "    </tr>\n",
       "    <tr>\n",
       "      <th>2</th>\n",
       "      <td>2017-11-12</td>\n",
       "      <td>41195147</td>\n",
       "      <td>sku_four_599</td>\n",
       "      <td>599</td>\n",
       "    </tr>\n",
       "    <tr>\n",
       "      <th>3</th>\n",
       "      <td>2017-09-26</td>\n",
       "      <td>91591874</td>\n",
       "      <td>sku_two_299</td>\n",
       "      <td>299</td>\n",
       "    </tr>\n",
       "    <tr>\n",
       "      <th>4</th>\n",
       "      <td>2017-12-01</td>\n",
       "      <td>91591874</td>\n",
       "      <td>sku_four_599</td>\n",
       "      <td>599</td>\n",
       "    </tr>\n",
       "  </tbody>\n",
       "</table>\n",
       "</div>"
      ],
      "text/plain": [
       "        date       uid            sku  price\n",
       "0 2017-07-10  41195147  sku_three_499    499\n",
       "1 2017-07-15  41195147  sku_three_499    499\n",
       "2 2017-11-12  41195147   sku_four_599    599\n",
       "3 2017-09-26  91591874    sku_two_299    299\n",
       "4 2017-12-01  91591874   sku_four_599    599"
      ]
     },
     "execution_count": 5,
     "metadata": {},
     "output_type": "execute_result"
    }
   ],
   "source": [
    "app_purchases = pd.read_csv(\"Datasets/purchase_data_v1.csv\")\n",
    "app_purchases['date'] = pd.to_datetime(app_purchases['date']).dt.date.astype('datetime64')\n",
    "app_purchases.head()"
   ]
  },
  {
   "cell_type": "code",
   "execution_count": 6,
   "metadata": {
    "ExecuteTime": {
     "end_time": "2020-09-01T03:24:21.159560Z",
     "start_time": "2020-09-01T03:24:21.149013Z"
    }
   },
   "outputs": [
    {
     "data": {
      "text/plain": [
       "date     datetime64[ns]\n",
       "uid               int64\n",
       "sku              object\n",
       "price             int64\n",
       "dtype: object"
      ]
     },
     "execution_count": 6,
     "metadata": {},
     "output_type": "execute_result"
    }
   ],
   "source": [
    "app_purchases.dtypes"
   ]
  },
  {
   "cell_type": "code",
   "execution_count": 7,
   "metadata": {
    "ExecuteTime": {
     "end_time": "2020-09-01T03:24:21.182183Z",
     "start_time": "2020-09-01T03:24:21.168952Z"
    }
   },
   "outputs": [
    {
     "data": {
      "text/plain": [
       "(9006, 4)"
      ]
     },
     "execution_count": 7,
     "metadata": {},
     "output_type": "execute_result"
    }
   ],
   "source": [
    "app_purchases.shape"
   ]
  },
  {
   "cell_type": "markdown",
   "metadata": {},
   "source": [
    "## Daily Revenue"
   ]
  },
  {
   "cell_type": "code",
   "execution_count": 8,
   "metadata": {
    "ExecuteTime": {
     "end_time": "2020-09-01T03:24:21.366634Z",
     "start_time": "2020-09-01T03:24:21.185950Z"
    }
   },
   "outputs": [
    {
     "data": {
      "text/html": [
       "<div>\n",
       "<style scoped>\n",
       "    .dataframe tbody tr th:only-of-type {\n",
       "        vertical-align: middle;\n",
       "    }\n",
       "\n",
       "    .dataframe tbody tr th {\n",
       "        vertical-align: top;\n",
       "    }\n",
       "\n",
       "    .dataframe thead th {\n",
       "        text-align: right;\n",
       "    }\n",
       "</style>\n",
       "<table border=\"1\" class=\"dataframe\">\n",
       "  <thead>\n",
       "    <tr style=\"text-align: right;\">\n",
       "      <th></th>\n",
       "      <th>index</th>\n",
       "      <th>gender</th>\n",
       "      <th>device</th>\n",
       "      <th>revenue</th>\n",
       "      <th>date</th>\n",
       "      <th>country</th>\n",
       "    </tr>\n",
       "  </thead>\n",
       "  <tbody>\n",
       "    <tr>\n",
       "      <th>0</th>\n",
       "      <td>1</td>\n",
       "      <td>male</td>\n",
       "      <td>ios</td>\n",
       "      <td>186557.0</td>\n",
       "      <td>2013-09-20</td>\n",
       "      <td>USA</td>\n",
       "    </tr>\n",
       "    <tr>\n",
       "      <th>1</th>\n",
       "      <td>2</td>\n",
       "      <td>male</td>\n",
       "      <td>ios</td>\n",
       "      <td>177217.0</td>\n",
       "      <td>2013-09-21</td>\n",
       "      <td>USA</td>\n",
       "    </tr>\n",
       "    <tr>\n",
       "      <th>2</th>\n",
       "      <td>3</td>\n",
       "      <td>male</td>\n",
       "      <td>ios</td>\n",
       "      <td>177197.0</td>\n",
       "      <td>2013-09-22</td>\n",
       "      <td>USA</td>\n",
       "    </tr>\n",
       "    <tr>\n",
       "      <th>3</th>\n",
       "      <td>4</td>\n",
       "      <td>male</td>\n",
       "      <td>ios</td>\n",
       "      <td>157193.0</td>\n",
       "      <td>2013-09-23</td>\n",
       "      <td>USA</td>\n",
       "    </tr>\n",
       "    <tr>\n",
       "      <th>4</th>\n",
       "      <td>5</td>\n",
       "      <td>male</td>\n",
       "      <td>ios</td>\n",
       "      <td>165592.0</td>\n",
       "      <td>2013-09-24</td>\n",
       "      <td>USA</td>\n",
       "    </tr>\n",
       "  </tbody>\n",
       "</table>\n",
       "</div>"
      ],
      "text/plain": [
       "   index gender device   revenue       date country\n",
       "0      1   male    ios  186557.0 2013-09-20     USA\n",
       "1      2   male    ios  177217.0 2013-09-21     USA\n",
       "2      3   male    ios  177197.0 2013-09-22     USA\n",
       "3      4   male    ios  157193.0 2013-09-23     USA\n",
       "4      5   male    ios  165592.0 2013-09-24     USA"
      ]
     },
     "execution_count": 8,
     "metadata": {},
     "output_type": "execute_result"
    }
   ],
   "source": [
    "revenue = pd.read_csv(\"Datasets/daily_revenue.csv\", parse_dates=True, infer_datetime_format=True)\n",
    "revenue['date'] = pd.to_datetime(revenue['date']).dt.date.astype('datetime64')\n",
    "revenue.head()"
   ]
  },
  {
   "cell_type": "code",
   "execution_count": 9,
   "metadata": {
    "ExecuteTime": {
     "end_time": "2020-09-01T03:24:21.380265Z",
     "start_time": "2020-09-01T03:24:21.371123Z"
    }
   },
   "outputs": [
    {
     "data": {
      "text/plain": [
       "index               int64\n",
       "gender             object\n",
       "device             object\n",
       "revenue           float64\n",
       "date       datetime64[ns]\n",
       "country            object\n",
       "dtype: object"
      ]
     },
     "execution_count": 9,
     "metadata": {},
     "output_type": "execute_result"
    }
   ],
   "source": [
    "revenue.dtypes"
   ]
  },
  {
   "cell_type": "code",
   "execution_count": 10,
   "metadata": {
    "ExecuteTime": {
     "end_time": "2020-09-01T03:24:21.392392Z",
     "start_time": "2020-09-01T03:24:21.384806Z"
    }
   },
   "outputs": [
    {
     "data": {
      "text/plain": [
       "(48000, 6)"
      ]
     },
     "execution_count": 10,
     "metadata": {},
     "output_type": "execute_result"
    }
   ],
   "source": [
    "revenue.shape"
   ]
  },
  {
   "cell_type": "markdown",
   "metadata": {},
   "source": [
    "## Paywall"
   ]
  },
  {
   "cell_type": "code",
   "execution_count": 11,
   "metadata": {
    "ExecuteTime": {
     "end_time": "2020-09-01T03:24:21.431906Z",
     "start_time": "2020-09-01T03:24:21.396106Z"
    }
   },
   "outputs": [
    {
     "data": {
      "text/html": [
       "<div>\n",
       "<style scoped>\n",
       "    .dataframe tbody tr th:only-of-type {\n",
       "        vertical-align: middle;\n",
       "    }\n",
       "\n",
       "    .dataframe tbody tr th {\n",
       "        vertical-align: top;\n",
       "    }\n",
       "\n",
       "    .dataframe thead th {\n",
       "        text-align: right;\n",
       "    }\n",
       "</style>\n",
       "<table border=\"1\" class=\"dataframe\">\n",
       "  <thead>\n",
       "    <tr style=\"text-align: right;\">\n",
       "      <th></th>\n",
       "      <th>uid</th>\n",
       "      <th>reg_date</th>\n",
       "      <th>device</th>\n",
       "      <th>gender</th>\n",
       "      <th>country</th>\n",
       "      <th>age</th>\n",
       "    </tr>\n",
       "  </thead>\n",
       "  <tbody>\n",
       "    <tr>\n",
       "      <th>580</th>\n",
       "      <td>73890301</td>\n",
       "      <td>2015-02-04</td>\n",
       "      <td>iOS</td>\n",
       "      <td>M</td>\n",
       "      <td>USA</td>\n",
       "      <td>20</td>\n",
       "    </tr>\n",
       "    <tr>\n",
       "      <th>1065</th>\n",
       "      <td>59349028</td>\n",
       "      <td>2015-03-20</td>\n",
       "      <td>and</td>\n",
       "      <td>M</td>\n",
       "      <td>FRA</td>\n",
       "      <td>24</td>\n",
       "    </tr>\n",
       "    <tr>\n",
       "      <th>677</th>\n",
       "      <td>69049973</td>\n",
       "      <td>2015-03-24</td>\n",
       "      <td>iOS</td>\n",
       "      <td>M</td>\n",
       "      <td>USA</td>\n",
       "      <td>23</td>\n",
       "    </tr>\n",
       "    <tr>\n",
       "      <th>750</th>\n",
       "      <td>48143234</td>\n",
       "      <td>2015-04-14</td>\n",
       "      <td>and</td>\n",
       "      <td>M</td>\n",
       "      <td>USA</td>\n",
       "      <td>30</td>\n",
       "    </tr>\n",
       "    <tr>\n",
       "      <th>454</th>\n",
       "      <td>82718727</td>\n",
       "      <td>2015-04-17</td>\n",
       "      <td>iOS</td>\n",
       "      <td>F</td>\n",
       "      <td>USA</td>\n",
       "      <td>17</td>\n",
       "    </tr>\n",
       "  </tbody>\n",
       "</table>\n",
       "</div>"
      ],
      "text/plain": [
       "           uid   reg_date device gender country  age\n",
       "580   73890301 2015-02-04    iOS      M     USA   20\n",
       "1065  59349028 2015-03-20    and      M     FRA   24\n",
       "677   69049973 2015-03-24    iOS      M     USA   23\n",
       "750   48143234 2015-04-14    and      M     USA   30\n",
       "454   82718727 2015-04-17    iOS      F     USA   17"
      ]
     },
     "execution_count": 11,
     "metadata": {},
     "output_type": "execute_result"
    }
   ],
   "source": [
    "user_demo_paywall = pd.read_csv(\"Datasets/user_demographics_paywall.csv\")\n",
    "user_demo_paywall['reg_date'] = pd.to_datetime(user_demo_paywall['reg_date']).dt.date.astype('datetime64')\n",
    "user_demo_paywall = user_demo_paywall.sort_values('reg_date')\n",
    "user_demo_paywall.head()"
   ]
  },
  {
   "cell_type": "code",
   "execution_count": 12,
   "metadata": {
    "ExecuteTime": {
     "end_time": "2020-09-01T03:24:21.458920Z",
     "start_time": "2020-09-01T03:24:21.440451Z"
    }
   },
   "outputs": [
    {
     "name": "stdout",
     "output_type": "stream",
     "text": [
      "2015-02-04 00:00:00\n",
      "2018-03-16 00:00:00\n"
     ]
    }
   ],
   "source": [
    "print(min(user_demo_paywall['reg_date']))\n",
    "print(max(user_demo_paywall['reg_date']))"
   ]
  },
  {
   "cell_type": "code",
   "execution_count": 13,
   "metadata": {
    "ExecuteTime": {
     "end_time": "2020-09-01T03:24:21.477797Z",
     "start_time": "2020-09-01T03:24:21.469037Z"
    }
   },
   "outputs": [
    {
     "data": {
      "text/plain": [
       "(1100, 6)"
      ]
     },
     "execution_count": 13,
     "metadata": {},
     "output_type": "execute_result"
    }
   ],
   "source": [
    "user_demo_paywall.shape"
   ]
  },
  {
   "cell_type": "markdown",
   "metadata": {},
   "source": [
    "## ab_test"
   ]
  },
  {
   "cell_type": "code",
   "execution_count": 14,
   "metadata": {
    "ExecuteTime": {
     "end_time": "2020-09-01T03:24:21.607173Z",
     "start_time": "2020-09-01T03:24:21.490504Z"
    }
   },
   "outputs": [
    {
     "data": {
      "text/html": [
       "<div>\n",
       "<style scoped>\n",
       "    .dataframe tbody tr th:only-of-type {\n",
       "        vertical-align: middle;\n",
       "    }\n",
       "\n",
       "    .dataframe tbody tr th {\n",
       "        vertical-align: top;\n",
       "    }\n",
       "\n",
       "    .dataframe thead th {\n",
       "        text-align: right;\n",
       "    }\n",
       "</style>\n",
       "<table border=\"1\" class=\"dataframe\">\n",
       "  <thead>\n",
       "    <tr style=\"text-align: right;\">\n",
       "      <th></th>\n",
       "      <th>uid</th>\n",
       "      <th>country</th>\n",
       "      <th>gender</th>\n",
       "      <th>spent</th>\n",
       "      <th>purchases</th>\n",
       "      <th>date</th>\n",
       "      <th>group</th>\n",
       "      <th>device</th>\n",
       "    </tr>\n",
       "  </thead>\n",
       "  <tbody>\n",
       "    <tr>\n",
       "      <th>0</th>\n",
       "      <td>11115722</td>\n",
       "      <td>MEX</td>\n",
       "      <td>F</td>\n",
       "      <td>1595</td>\n",
       "      <td>5</td>\n",
       "      <td>2016-03-08</td>\n",
       "      <td>GRP B</td>\n",
       "      <td>I</td>\n",
       "    </tr>\n",
       "    <tr>\n",
       "      <th>1</th>\n",
       "      <td>11122053</td>\n",
       "      <td>USA</td>\n",
       "      <td>M</td>\n",
       "      <td>498</td>\n",
       "      <td>2</td>\n",
       "      <td>2017-07-14</td>\n",
       "      <td>GRP B</td>\n",
       "      <td>I</td>\n",
       "    </tr>\n",
       "    <tr>\n",
       "      <th>2</th>\n",
       "      <td>11128688</td>\n",
       "      <td>USA</td>\n",
       "      <td>F</td>\n",
       "      <td>2394</td>\n",
       "      <td>6</td>\n",
       "      <td>2017-09-17</td>\n",
       "      <td>GRP A</td>\n",
       "      <td>I</td>\n",
       "    </tr>\n",
       "    <tr>\n",
       "      <th>3</th>\n",
       "      <td>11130578</td>\n",
       "      <td>USA</td>\n",
       "      <td>F</td>\n",
       "      <td>1197</td>\n",
       "      <td>3</td>\n",
       "      <td>2017-11-30</td>\n",
       "      <td>GRP A</td>\n",
       "      <td>I</td>\n",
       "    </tr>\n",
       "    <tr>\n",
       "      <th>4</th>\n",
       "      <td>11130759</td>\n",
       "      <td>ESP</td>\n",
       "      <td>M</td>\n",
       "      <td>1297</td>\n",
       "      <td>3</td>\n",
       "      <td>2018-01-10</td>\n",
       "      <td>GRP B</td>\n",
       "      <td>A</td>\n",
       "    </tr>\n",
       "  </tbody>\n",
       "</table>\n",
       "</div>"
      ],
      "text/plain": [
       "        uid country gender  spent  purchases        date  group device\n",
       "0  11115722     MEX      F   1595          5  2016-03-08  GRP B      I\n",
       "1  11122053     USA      M    498          2  2017-07-14  GRP B      I\n",
       "2  11128688     USA      F   2394          6  2017-09-17  GRP A      I\n",
       "3  11130578     USA      F   1197          3  2017-11-30  GRP A      I\n",
       "4  11130759     ESP      M   1297          3  2018-01-10  GRP B      A"
      ]
     },
     "execution_count": 14,
     "metadata": {},
     "output_type": "execute_result"
    }
   ],
   "source": [
    "ab_test = pd.read_csv(\"Datasets/AB_testing_exercise.csv\")\n",
    "ab_test.head()"
   ]
  },
  {
   "cell_type": "code",
   "execution_count": 15,
   "metadata": {
    "ExecuteTime": {
     "end_time": "2020-09-01T03:24:21.631576Z",
     "start_time": "2020-09-01T03:24:21.618203Z"
    }
   },
   "outputs": [
    {
     "data": {
      "text/plain": [
       "(45883, 8)"
      ]
     },
     "execution_count": 15,
     "metadata": {},
     "output_type": "execute_result"
    }
   ],
   "source": [
    "ab_test.shape"
   ]
  },
  {
   "cell_type": "markdown",
   "metadata": {},
   "source": [
    "# KPI"
   ]
  },
  {
   "cell_type": "markdown",
   "metadata": {},
   "source": [
    "## Conversion Rate"
   ]
  },
  {
   "cell_type": "code",
   "execution_count": 16,
   "metadata": {
    "ExecuteTime": {
     "end_time": "2020-09-01T03:24:21.648339Z",
     "start_time": "2020-09-01T03:24:21.637123Z"
    }
   },
   "outputs": [
    {
     "name": "stdout",
     "output_type": "stream",
     "text": [
      "Index(['uid', 'reg_date', 'device', 'gender', 'country', 'age'], dtype='object')\n",
      "Index(['date', 'uid', 'sku', 'price'], dtype='object')\n"
     ]
    }
   ],
   "source": [
    "# Print the columns of customer data\n",
    "print(customer_data.columns)\n",
    "\n",
    "# Print the columns of app_purchases\n",
    "print(app_purchases.columns)"
   ]
  },
  {
   "cell_type": "code",
   "execution_count": 17,
   "metadata": {
    "ExecuteTime": {
     "end_time": "2020-09-01T03:24:21.674941Z",
     "start_time": "2020-09-01T03:24:21.651432Z"
    }
   },
   "outputs": [
    {
     "data": {
      "text/html": [
       "<div>\n",
       "<style scoped>\n",
       "    .dataframe tbody tr th:only-of-type {\n",
       "        vertical-align: middle;\n",
       "    }\n",
       "\n",
       "    .dataframe tbody tr th {\n",
       "        vertical-align: top;\n",
       "    }\n",
       "\n",
       "    .dataframe thead th {\n",
       "        text-align: right;\n",
       "    }\n",
       "</style>\n",
       "<table border=\"1\" class=\"dataframe\">\n",
       "  <thead>\n",
       "    <tr style=\"text-align: right;\">\n",
       "      <th></th>\n",
       "      <th>date</th>\n",
       "      <th>uid</th>\n",
       "      <th>sku</th>\n",
       "      <th>price</th>\n",
       "      <th>reg_date</th>\n",
       "      <th>device</th>\n",
       "      <th>gender</th>\n",
       "      <th>country</th>\n",
       "      <th>age</th>\n",
       "    </tr>\n",
       "  </thead>\n",
       "  <tbody>\n",
       "    <tr>\n",
       "      <th>0</th>\n",
       "      <td>2017-07-10</td>\n",
       "      <td>41195147</td>\n",
       "      <td>sku_three_499</td>\n",
       "      <td>499</td>\n",
       "      <td>2017-06-26</td>\n",
       "      <td>and</td>\n",
       "      <td>M</td>\n",
       "      <td>BRA</td>\n",
       "      <td>17</td>\n",
       "    </tr>\n",
       "    <tr>\n",
       "      <th>1</th>\n",
       "      <td>2017-07-15</td>\n",
       "      <td>41195147</td>\n",
       "      <td>sku_three_499</td>\n",
       "      <td>499</td>\n",
       "      <td>2017-06-26</td>\n",
       "      <td>and</td>\n",
       "      <td>M</td>\n",
       "      <td>BRA</td>\n",
       "      <td>17</td>\n",
       "    </tr>\n",
       "    <tr>\n",
       "      <th>2</th>\n",
       "      <td>2017-11-12</td>\n",
       "      <td>41195147</td>\n",
       "      <td>sku_four_599</td>\n",
       "      <td>599</td>\n",
       "      <td>2017-06-26</td>\n",
       "      <td>and</td>\n",
       "      <td>M</td>\n",
       "      <td>BRA</td>\n",
       "      <td>17</td>\n",
       "    </tr>\n",
       "    <tr>\n",
       "      <th>3</th>\n",
       "      <td>2017-09-26</td>\n",
       "      <td>91591874</td>\n",
       "      <td>sku_two_299</td>\n",
       "      <td>299</td>\n",
       "      <td>2017-01-05</td>\n",
       "      <td>and</td>\n",
       "      <td>M</td>\n",
       "      <td>TUR</td>\n",
       "      <td>17</td>\n",
       "    </tr>\n",
       "    <tr>\n",
       "      <th>4</th>\n",
       "      <td>2017-12-01</td>\n",
       "      <td>91591874</td>\n",
       "      <td>sku_four_599</td>\n",
       "      <td>599</td>\n",
       "      <td>2017-01-05</td>\n",
       "      <td>and</td>\n",
       "      <td>M</td>\n",
       "      <td>TUR</td>\n",
       "      <td>17</td>\n",
       "    </tr>\n",
       "  </tbody>\n",
       "</table>\n",
       "</div>"
      ],
      "text/plain": [
       "        date       uid            sku  price   reg_date device gender country  \\\n",
       "0 2017-07-10  41195147  sku_three_499    499 2017-06-26    and      M     BRA   \n",
       "1 2017-07-15  41195147  sku_three_499    499 2017-06-26    and      M     BRA   \n",
       "2 2017-11-12  41195147   sku_four_599    599 2017-06-26    and      M     BRA   \n",
       "3 2017-09-26  91591874    sku_two_299    299 2017-01-05    and      M     TUR   \n",
       "4 2017-12-01  91591874   sku_four_599    599 2017-01-05    and      M     TUR   \n",
       "\n",
       "   age  \n",
       "0   17  \n",
       "1   17  \n",
       "2   17  \n",
       "3   17  \n",
       "4   17  "
      ]
     },
     "execution_count": 17,
     "metadata": {},
     "output_type": "execute_result"
    }
   ],
   "source": [
    "purchase_data = app_purchases.merge(customer_data, how = 'inner', on=['uid'])\n",
    "purchase_data.head()"
   ]
  },
  {
   "cell_type": "code",
   "execution_count": 18,
   "metadata": {
    "ExecuteTime": {
     "end_time": "2020-09-01T03:24:21.705589Z",
     "start_time": "2020-09-01T03:24:21.699328Z"
    }
   },
   "outputs": [
    {
     "data": {
      "text/plain": [
       "(9006, 9)"
      ]
     },
     "execution_count": 18,
     "metadata": {},
     "output_type": "execute_result"
    }
   ],
   "source": [
    "purchase_data.shape"
   ]
  },
  {
   "cell_type": "markdown",
   "metadata": {},
   "source": [
    "## Aggregate "
   ]
  },
  {
   "cell_type": "code",
   "execution_count": 19,
   "metadata": {
    "ExecuteTime": {
     "end_time": "2020-09-01T03:24:21.763001Z",
     "start_time": "2020-09-01T03:24:21.722924Z"
    }
   },
   "outputs": [
    {
     "data": {
      "text/html": [
       "<div>\n",
       "<style scoped>\n",
       "    .dataframe tbody tr th:only-of-type {\n",
       "        vertical-align: middle;\n",
       "    }\n",
       "\n",
       "    .dataframe tbody tr th {\n",
       "        vertical-align: top;\n",
       "    }\n",
       "\n",
       "    .dataframe thead tr th {\n",
       "        text-align: left;\n",
       "    }\n",
       "\n",
       "    .dataframe thead tr:last-of-type th {\n",
       "        text-align: right;\n",
       "    }\n",
       "</style>\n",
       "<table border=\"1\" class=\"dataframe\">\n",
       "  <thead>\n",
       "    <tr>\n",
       "      <th></th>\n",
       "      <th></th>\n",
       "      <th colspan=\"3\" halign=\"left\">price</th>\n",
       "    </tr>\n",
       "    <tr>\n",
       "      <th></th>\n",
       "      <th></th>\n",
       "      <th>mean</th>\n",
       "      <th>median</th>\n",
       "      <th>std</th>\n",
       "    </tr>\n",
       "    <tr>\n",
       "      <th>device</th>\n",
       "      <th>gender</th>\n",
       "      <th></th>\n",
       "      <th></th>\n",
       "      <th></th>\n",
       "    </tr>\n",
       "  </thead>\n",
       "  <tbody>\n",
       "    <tr>\n",
       "      <th rowspan=\"2\" valign=\"top\">and</th>\n",
       "      <th>F</th>\n",
       "      <td>400.747504</td>\n",
       "      <td>299</td>\n",
       "      <td>179.984378</td>\n",
       "    </tr>\n",
       "    <tr>\n",
       "      <th>M</th>\n",
       "      <td>416.237308</td>\n",
       "      <td>499</td>\n",
       "      <td>195.001520</td>\n",
       "    </tr>\n",
       "    <tr>\n",
       "      <th rowspan=\"2\" valign=\"top\">iOS</th>\n",
       "      <th>F</th>\n",
       "      <td>404.435330</td>\n",
       "      <td>299</td>\n",
       "      <td>181.524952</td>\n",
       "    </tr>\n",
       "    <tr>\n",
       "      <th>M</th>\n",
       "      <td>405.272401</td>\n",
       "      <td>299</td>\n",
       "      <td>196.843197</td>\n",
       "    </tr>\n",
       "  </tbody>\n",
       "</table>\n",
       "</div>"
      ],
      "text/plain": [
       "                    price                   \n",
       "                     mean median         std\n",
       "device gender                               \n",
       "and    F       400.747504    299  179.984378\n",
       "       M       416.237308    499  195.001520\n",
       "iOS    F       404.435330    299  181.524952\n",
       "       M       405.272401    299  196.843197"
      ]
     },
     "execution_count": 19,
     "metadata": {},
     "output_type": "execute_result"
    }
   ],
   "source": [
    "# Group the data \n",
    "grouped_purchase_data = purchase_data.groupby(by=['device', 'gender'])\n",
    "\n",
    "# Aggregate the data\n",
    "purchase_summary = grouped_purchase_data.agg({'price': ['mean', 'median', 'std']})\n",
    "\n",
    "purchase_summary"
   ]
  },
  {
   "cell_type": "markdown",
   "metadata": {},
   "source": [
    "## Calculating KPI"
   ]
  },
  {
   "cell_type": "code",
   "execution_count": 20,
   "metadata": {
    "ExecuteTime": {
     "end_time": "2020-09-01T03:24:21.820168Z",
     "start_time": "2020-09-01T03:24:21.769160Z"
    }
   },
   "outputs": [
    {
     "data": {
      "text/html": [
       "<div>\n",
       "<style scoped>\n",
       "    .dataframe tbody tr th:only-of-type {\n",
       "        vertical-align: middle;\n",
       "    }\n",
       "\n",
       "    .dataframe tbody tr th {\n",
       "        vertical-align: top;\n",
       "    }\n",
       "\n",
       "    .dataframe thead th {\n",
       "        text-align: right;\n",
       "    }\n",
       "</style>\n",
       "<table border=\"1\" class=\"dataframe\">\n",
       "  <thead>\n",
       "    <tr style=\"text-align: right;\">\n",
       "      <th></th>\n",
       "      <th>date</th>\n",
       "      <th>uid</th>\n",
       "      <th>sku</th>\n",
       "      <th>price</th>\n",
       "      <th>reg_date</th>\n",
       "      <th>device</th>\n",
       "      <th>gender</th>\n",
       "      <th>country</th>\n",
       "      <th>age</th>\n",
       "    </tr>\n",
       "  </thead>\n",
       "  <tbody>\n",
       "    <tr>\n",
       "      <th>0</th>\n",
       "      <td>2017-07-10</td>\n",
       "      <td>41195147</td>\n",
       "      <td>sku_three_499</td>\n",
       "      <td>499</td>\n",
       "      <td>2017-06-26</td>\n",
       "      <td>and</td>\n",
       "      <td>M</td>\n",
       "      <td>BRA</td>\n",
       "      <td>17</td>\n",
       "    </tr>\n",
       "    <tr>\n",
       "      <th>1</th>\n",
       "      <td>2017-07-15</td>\n",
       "      <td>41195147</td>\n",
       "      <td>sku_three_499</td>\n",
       "      <td>499</td>\n",
       "      <td>2017-06-26</td>\n",
       "      <td>and</td>\n",
       "      <td>M</td>\n",
       "      <td>BRA</td>\n",
       "      <td>17</td>\n",
       "    </tr>\n",
       "    <tr>\n",
       "      <th>19</th>\n",
       "      <td>2016-05-12</td>\n",
       "      <td>22870987</td>\n",
       "      <td>sku_four_599</td>\n",
       "      <td>599</td>\n",
       "      <td>2016-04-20</td>\n",
       "      <td>iOS</td>\n",
       "      <td>F</td>\n",
       "      <td>BRA</td>\n",
       "      <td>26</td>\n",
       "    </tr>\n",
       "    <tr>\n",
       "      <th>34</th>\n",
       "      <td>2017-01-12</td>\n",
       "      <td>88736154</td>\n",
       "      <td>sku_five_899</td>\n",
       "      <td>899</td>\n",
       "      <td>2017-01-08</td>\n",
       "      <td>and</td>\n",
       "      <td>F</td>\n",
       "      <td>BRA</td>\n",
       "      <td>19</td>\n",
       "    </tr>\n",
       "    <tr>\n",
       "      <th>92</th>\n",
       "      <td>2016-12-08</td>\n",
       "      <td>45588501</td>\n",
       "      <td>sku_four_599</td>\n",
       "      <td>599</td>\n",
       "      <td>2016-11-27</td>\n",
       "      <td>and</td>\n",
       "      <td>F</td>\n",
       "      <td>USA</td>\n",
       "      <td>49</td>\n",
       "    </tr>\n",
       "  </tbody>\n",
       "</table>\n",
       "</div>"
      ],
      "text/plain": [
       "         date       uid            sku  price   reg_date device gender  \\\n",
       "0  2017-07-10  41195147  sku_three_499    499 2017-06-26    and      M   \n",
       "1  2017-07-15  41195147  sku_three_499    499 2017-06-26    and      M   \n",
       "19 2016-05-12  22870987   sku_four_599    599 2016-04-20    iOS      F   \n",
       "34 2017-01-12  88736154   sku_five_899    899 2017-01-08    and      F   \n",
       "92 2016-12-08  45588501   sku_four_599    599 2016-11-27    and      F   \n",
       "\n",
       "   country  age  \n",
       "0      BRA   17  \n",
       "1      BRA   17  \n",
       "19     BRA   26  \n",
       "34     BRA   19  \n",
       "92     USA   49  "
      ]
     },
     "execution_count": 20,
     "metadata": {},
     "output_type": "execute_result"
    }
   ],
   "source": [
    "current_date = pd.to_datetime('2018-03-17')\n",
    "\n",
    "# Compute max_purchase_date \n",
    "# Subtract timedelta(days=28) from current_date to find the last date that we will count purchases from. \n",
    "max_purchase_date = current_date - timedelta(days=28)\n",
    "\n",
    "# Filter to only include users who registered before our max date\n",
    "#Filter out all users in purchase_data who registered in the last 28 days.\n",
    "purchase_data_filt = purchase_data[purchase_data.reg_date < max_purchase_date]\n",
    "\n",
    "# Filter to contain only purchases within the first 28 days of registration\n",
    "# reg_date = registration date\n",
    "# date = purchase date\n",
    "purchase_data_filt = purchase_data_filt[(purchase_data_filt.date <= \n",
    "                        purchase_data_filt.reg_date + timedelta(days=28))]\n",
    "\n",
    "purchase_data_filt.head()"
   ]
  },
  {
   "cell_type": "code",
   "execution_count": 21,
   "metadata": {
    "ExecuteTime": {
     "end_time": "2020-09-01T03:24:21.874306Z",
     "start_time": "2020-09-01T03:24:21.857163Z"
    }
   },
   "outputs": [
    {
     "data": {
      "text/plain": [
       "414.4237288135593"
      ]
     },
     "execution_count": 21,
     "metadata": {},
     "output_type": "execute_result"
    }
   ],
   "source": [
    "# Output the mean price paid per purchase\n",
    "purchase_data_filt.price.mean()"
   ]
  },
  {
   "cell_type": "markdown",
   "metadata": {},
   "source": [
    "Interesting! Since our average price is 414 cents which is below $4.99 it seems that our purchasers tend towards the lower priced set of options."
   ]
  },
  {
   "cell_type": "markdown",
   "metadata": {},
   "source": [
    "## Average Purchase by Cohort"
   ]
  },
  {
   "cell_type": "markdown",
   "metadata": {},
   "source": [
    "We can calculate these metrics across a set of cohorts and see what differences emerge. This is a useful task as it can help us understand how behaviors vary across cohorts."
   ]
  },
  {
   "cell_type": "code",
   "execution_count": 22,
   "metadata": {
    "ExecuteTime": {
     "end_time": "2020-09-01T03:24:21.926093Z",
     "start_time": "2020-09-01T03:24:21.877868Z"
    }
   },
   "outputs": [
    {
     "data": {
      "text/html": [
       "<div>\n",
       "<style scoped>\n",
       "    .dataframe tbody tr th:only-of-type {\n",
       "        vertical-align: middle;\n",
       "    }\n",
       "\n",
       "    .dataframe tbody tr th {\n",
       "        vertical-align: top;\n",
       "    }\n",
       "\n",
       "    .dataframe thead tr th {\n",
       "        text-align: left;\n",
       "    }\n",
       "</style>\n",
       "<table border=\"1\" class=\"dataframe\">\n",
       "  <thead>\n",
       "    <tr>\n",
       "      <th></th>\n",
       "      <th>gender</th>\n",
       "      <th>device</th>\n",
       "      <th colspan=\"2\" halign=\"left\">month1</th>\n",
       "      <th colspan=\"2\" halign=\"left\">price</th>\n",
       "    </tr>\n",
       "    <tr>\n",
       "      <th></th>\n",
       "      <th></th>\n",
       "      <th></th>\n",
       "      <th>mean</th>\n",
       "      <th>median</th>\n",
       "      <th>mean</th>\n",
       "      <th>median</th>\n",
       "    </tr>\n",
       "  </thead>\n",
       "  <tbody>\n",
       "    <tr>\n",
       "      <th>0</th>\n",
       "      <td>F</td>\n",
       "      <td>and</td>\n",
       "      <td>388.204545</td>\n",
       "      <td>299.0</td>\n",
       "      <td>400.747504</td>\n",
       "      <td>299</td>\n",
       "    </tr>\n",
       "    <tr>\n",
       "      <th>1</th>\n",
       "      <td>F</td>\n",
       "      <td>iOS</td>\n",
       "      <td>432.587786</td>\n",
       "      <td>499.0</td>\n",
       "      <td>404.435330</td>\n",
       "      <td>299</td>\n",
       "    </tr>\n",
       "    <tr>\n",
       "      <th>2</th>\n",
       "      <td>M</td>\n",
       "      <td>and</td>\n",
       "      <td>413.705882</td>\n",
       "      <td>399.0</td>\n",
       "      <td>416.237308</td>\n",
       "      <td>499</td>\n",
       "    </tr>\n",
       "    <tr>\n",
       "      <th>3</th>\n",
       "      <td>M</td>\n",
       "      <td>iOS</td>\n",
       "      <td>433.313725</td>\n",
       "      <td>499.0</td>\n",
       "      <td>405.272401</td>\n",
       "      <td>299</td>\n",
       "    </tr>\n",
       "  </tbody>\n",
       "</table>\n",
       "</div>"
      ],
      "text/plain": [
       "  gender device      month1              price       \n",
       "                       mean median        mean median\n",
       "0      F    and  388.204545  299.0  400.747504    299\n",
       "1      F    iOS  432.587786  499.0  404.435330    299\n",
       "2      M    and  413.705882  399.0  416.237308    499\n",
       "3      M    iOS  433.313725  499.0  405.272401    299"
      ]
     },
     "execution_count": 22,
     "metadata": {},
     "output_type": "execute_result"
    }
   ],
   "source": [
    "# Set the max registration date to be one month before today\n",
    "max_reg_date = current_date - timedelta(days=28)\n",
    "\n",
    "# Find the month 1 values\n",
    "month1 = np.where((purchase_data.reg_date < max_reg_date) &\n",
    "                 (purchase_data.date < purchase_data.reg_date + timedelta(days=28)),\n",
    "                  purchase_data.price, \n",
    "                  np.NaN)\n",
    "                 \n",
    "# Update the value in the DataFrame\n",
    "purchase_data['month1'] = month1\n",
    "\n",
    "# Group the data by gender and device \n",
    "purchase_data_upd = purchase_data.groupby(by=['gender', 'device'], as_index=False) \n",
    "\n",
    "# Aggregate the month1 and price data \n",
    "purchase_summary = purchase_data_upd.agg(\n",
    "                        {'month1': ['mean', 'median'],\n",
    "                        'price': ['mean', 'median']})\n",
    "\n",
    "purchase_summary"
   ]
  },
  {
   "cell_type": "code",
   "execution_count": 23,
   "metadata": {
    "ExecuteTime": {
     "end_time": "2020-09-01T03:24:21.944882Z",
     "start_time": "2020-09-01T03:24:21.937446Z"
    }
   },
   "outputs": [
    {
     "data": {
      "text/plain": [
       "<pandas.core.groupby.generic.DataFrameGroupBy object at 0x7fcc424b5650>"
      ]
     },
     "execution_count": 23,
     "metadata": {},
     "output_type": "execute_result"
    }
   ],
   "source": [
    "purchase_data_upd"
   ]
  },
  {
   "cell_type": "markdown",
   "metadata": {},
   "source": [
    "# EDA"
   ]
  },
  {
   "cell_type": "markdown",
   "metadata": {},
   "source": [
    "## Moving Averages"
   ]
  },
  {
   "cell_type": "code",
   "execution_count": 24,
   "metadata": {
    "ExecuteTime": {
     "end_time": "2020-09-01T03:24:21.957681Z",
     "start_time": "2020-09-01T03:24:21.953005Z"
    }
   },
   "outputs": [],
   "source": [
    "from pandas.plotting import register_matplotlib_converters\n",
    "register_matplotlib_converters()"
   ]
  },
  {
   "cell_type": "code",
   "execution_count": 25,
   "metadata": {
    "ExecuteTime": {
     "end_time": "2020-09-01T03:24:22.715074Z",
     "start_time": "2020-09-01T03:24:21.965564Z"
    }
   },
   "outputs": [
    {
     "data": {
      "image/png": "[encoded data removed]",
      "text/plain": [
       "<Figure size 720x360 with 1 Axes>"
      ]
     },
     "metadata": {
      "needs_background": "light"
     },
     "output_type": "display_data"
    }
   ],
   "source": [
    "plt.figure(figsize=(10,5))\n",
    "daily_revenue = revenue.groupby('date', as_index=False).agg('sum').drop('index',axis = 1)\n",
    "plt.plot('date', 'revenue', data = daily_revenue)\n",
    "plt.show()"
   ]
  },
  {
   "cell_type": "markdown",
   "metadata": {},
   "source": [
    "There are so many variation in the revenue. To smoothen this, lets try moving average."
   ]
  },
  {
   "cell_type": "code",
   "execution_count": 26,
   "metadata": {
    "ExecuteTime": {
     "end_time": "2020-09-01T03:24:23.715692Z",
     "start_time": "2020-09-01T03:24:22.725624Z"
    }
   },
   "outputs": [
    {
     "data": {
      "text/plain": [
       "<Figure size 720x360 with 0 Axes>"
      ]
     },
     "metadata": {},
     "output_type": "display_data"
    },
    {
     "data": {
      "image/png": "[encoded data removed]",
      "text/plain": [
       "<Figure size 720x504 with 1 Axes>"
      ]
     },
     "metadata": {
      "needs_background": "light"
     },
     "output_type": "display_data"
    }
   ],
   "source": [
    "# Compute 7_day_rev\n",
    "daily_revenue['7_day_rev'] = daily_revenue.revenue.rolling(window=7,center=False).mean()\n",
    "\n",
    "# Compute 28_day_rev\n",
    "daily_revenue['28_day_rev'] = daily_revenue.revenue.rolling(window=28,center=False).mean()\n",
    "    \n",
    "# Compute 365_day_rev\n",
    "daily_revenue['365_day_rev'] = daily_revenue.revenue.rolling(window=365,center=False).mean()\n",
    "\n",
    "\n",
    "plt.figure(figsize=(10,5))\n",
    "# Plot date, and revenue, along with the 3 rolling functions (in order)    \n",
    "daily_revenue.plot(x='date', \n",
    "                   y=['revenue', '7_day_rev', '28_day_rev', '365_day_rev', ], \n",
    "                   figsize=(10,7))\n",
    "plt.show()"
   ]
  },
  {
   "cell_type": "markdown",
   "metadata": {},
   "source": [
    "## Exponential Rolling Average "
   ]
  },
  {
   "cell_type": "code",
   "execution_count": 27,
   "metadata": {
    "ExecuteTime": {
     "end_time": "2020-09-01T03:24:24.603537Z",
     "start_time": "2020-09-01T03:24:23.718035Z"
    }
   },
   "outputs": [
    {
     "data": {
      "image/png": "[encoded data removed]",
      "text/plain": [
       "<Figure size 720x504 with 1 Axes>"
      ]
     },
     "metadata": {
      "needs_background": "light"
     },
     "output_type": "display_data"
    }
   ],
   "source": [
    "# Calculate 'small_scale'\n",
    "daily_revenue['small_scale'] = daily_revenue.revenue.ewm(span=10).mean()\n",
    "\n",
    "# Calculate 'medium_scale'\n",
    "daily_revenue['medium_scale'] = daily_revenue.revenue.ewm(span=100).mean()\n",
    "\n",
    "# Calculate 'large_scale'\n",
    "daily_revenue['large_scale'] = daily_revenue.revenue.ewm(span=500).mean()\n",
    "\n",
    "# Plot 'date' on the x-axis and, our three averages and 'revenue'\n",
    "# on the y-axis\n",
    "daily_revenue.plot(x = 'date', y =['revenue', 'small_scale', 'medium_scale', 'large_scale'], figsize=(10,7))\n",
    "plt.show()"
   ]
  },
  {
   "cell_type": "markdown",
   "metadata": {},
   "source": [
    "## User Revenue"
   ]
  },
  {
   "cell_type": "code",
   "execution_count": 28,
   "metadata": {
    "ExecuteTime": {
     "end_time": "2020-09-01T03:24:24.785724Z",
     "start_time": "2020-09-01T03:24:24.605694Z"
    }
   },
   "outputs": [
    {
     "data": {
      "text/html": [
       "<div>\n",
       "<style scoped>\n",
       "    .dataframe tbody tr th:only-of-type {\n",
       "        vertical-align: middle;\n",
       "    }\n",
       "\n",
       "    .dataframe tbody tr th {\n",
       "        vertical-align: top;\n",
       "    }\n",
       "\n",
       "    .dataframe thead th {\n",
       "        text-align: right;\n",
       "    }\n",
       "</style>\n",
       "<table border=\"1\" class=\"dataframe\">\n",
       "  <thead>\n",
       "    <tr style=\"text-align: right;\">\n",
       "      <th></th>\n",
       "      <th>month</th>\n",
       "      <th>gender</th>\n",
       "      <th>device</th>\n",
       "      <th>index</th>\n",
       "      <th>revenue</th>\n",
       "    </tr>\n",
       "  </thead>\n",
       "  <tbody>\n",
       "    <tr>\n",
       "      <th>0</th>\n",
       "      <td>2013-09-01</td>\n",
       "      <td>female</td>\n",
       "      <td>android</td>\n",
       "      <td>660</td>\n",
       "      <td>1144057.0</td>\n",
       "    </tr>\n",
       "    <tr>\n",
       "      <th>1</th>\n",
       "      <td>2013-09-01</td>\n",
       "      <td>female</td>\n",
       "      <td>ios</td>\n",
       "      <td>660</td>\n",
       "      <td>1543801.0</td>\n",
       "    </tr>\n",
       "    <tr>\n",
       "      <th>2</th>\n",
       "      <td>2013-09-01</td>\n",
       "      <td>male</td>\n",
       "      <td>android</td>\n",
       "      <td>660</td>\n",
       "      <td>3447967.0</td>\n",
       "    </tr>\n",
       "    <tr>\n",
       "      <th>3</th>\n",
       "      <td>2013-09-01</td>\n",
       "      <td>male</td>\n",
       "      <td>ios</td>\n",
       "      <td>660</td>\n",
       "      <td>4631978.0</td>\n",
       "    </tr>\n",
       "    <tr>\n",
       "      <th>4</th>\n",
       "      <td>2013-10-01</td>\n",
       "      <td>female</td>\n",
       "      <td>android</td>\n",
       "      <td>8370</td>\n",
       "      <td>3233420.0</td>\n",
       "    </tr>\n",
       "  </tbody>\n",
       "</table>\n",
       "</div>"
      ],
      "text/plain": [
       "       month  gender   device  index    revenue\n",
       "0 2013-09-01  female  android    660  1144057.0\n",
       "1 2013-09-01  female      ios    660  1543801.0\n",
       "2 2013-09-01    male  android    660  3447967.0\n",
       "3 2013-09-01    male      ios    660  4631978.0\n",
       "4 2013-10-01  female  android   8370  3233420.0"
      ]
     },
     "execution_count": 28,
     "metadata": {},
     "output_type": "execute_result"
    }
   ],
   "source": [
    "user_revenue = revenue.copy()\n",
    "user_revenue['month'] = user_revenue['date'].dt.to_period('M').dt.to_timestamp()\n",
    "user_revenue = user_revenue.groupby(['month', 'gender', 'device'], as_index = False).agg('sum')\n",
    "user_revenue.head()"
   ]
  },
  {
   "cell_type": "code",
   "execution_count": 29,
   "metadata": {
    "ExecuteTime": {
     "end_time": "2020-09-01T03:24:25.326215Z",
     "start_time": "2020-09-01T03:24:24.793244Z"
    }
   },
   "outputs": [
    {
     "data": {
      "image/png": "[encoded data removed]",
      "text/plain": [
       "<Figure size 720x504 with 1 Axes>"
      ]
     },
     "metadata": {
      "needs_background": "light"
     },
     "output_type": "display_data"
    }
   ],
   "source": [
    "# Pivot user_revenue\n",
    "pivoted_data = pd.pivot_table(user_revenue, values ='revenue', columns=['device', 'gender'], index='month')\n",
    "pivoted_data = pivoted_data[1:(len(pivoted_data) -1 )]\n",
    "\n",
    "# Create and show the plot\n",
    "pivoted_data.plot(figsize=(10,7))\n",
    "plt.show()"
   ]
  },
  {
   "cell_type": "markdown",
   "metadata": {},
   "source": [
    " it seems like our aggregate revenue is fairly stable, so the changes are most likely not hurting revenue."
   ]
  },
  {
   "cell_type": "markdown",
   "metadata": {},
   "source": [
    "# A/B Testing"
   ]
  },
  {
   "cell_type": "markdown",
   "metadata": {},
   "source": [
    "A/B test needs to be random because:\n",
    "\n",
    "* isolate the impact of the change made\n",
    "\n",
    "* reduce the potential impact of confounding variables"
   ]
  },
  {
   "cell_type": "markdown",
   "metadata": {},
   "source": [
    "## Revenue per user day"
   ]
  },
  {
   "cell_type": "code",
   "execution_count": 30,
   "metadata": {
    "ExecuteTime": {
     "end_time": "2020-09-01T03:24:25.351022Z",
     "start_time": "2020-09-01T03:24:25.328201Z"
    }
   },
   "outputs": [
    {
     "data": {
      "text/html": [
       "<div>\n",
       "<style scoped>\n",
       "    .dataframe tbody tr th:only-of-type {\n",
       "        vertical-align: middle;\n",
       "    }\n",
       "\n",
       "    .dataframe tbody tr th {\n",
       "        vertical-align: top;\n",
       "    }\n",
       "\n",
       "    .dataframe thead th {\n",
       "        text-align: right;\n",
       "    }\n",
       "</style>\n",
       "<table border=\"1\" class=\"dataframe\">\n",
       "  <thead>\n",
       "    <tr style=\"text-align: right;\">\n",
       "      <th></th>\n",
       "      <th>date</th>\n",
       "      <th>uid</th>\n",
       "      <th>sku</th>\n",
       "      <th>price</th>\n",
       "      <th>reg_date</th>\n",
       "      <th>device</th>\n",
       "      <th>gender</th>\n",
       "      <th>country</th>\n",
       "      <th>age</th>\n",
       "    </tr>\n",
       "  </thead>\n",
       "  <tbody>\n",
       "    <tr>\n",
       "      <th>1309</th>\n",
       "      <td>2018-03-13</td>\n",
       "      <td>11158549</td>\n",
       "      <td>sku_two_299</td>\n",
       "      <td>299</td>\n",
       "      <td>2016-11-09</td>\n",
       "      <td>and</td>\n",
       "      <td>F</td>\n",
       "      <td>BRA</td>\n",
       "      <td>18</td>\n",
       "    </tr>\n",
       "    <tr>\n",
       "      <th>1306</th>\n",
       "      <td>2017-09-25</td>\n",
       "      <td>11158549</td>\n",
       "      <td>sku_three_499</td>\n",
       "      <td>499</td>\n",
       "      <td>2016-11-09</td>\n",
       "      <td>and</td>\n",
       "      <td>F</td>\n",
       "      <td>BRA</td>\n",
       "      <td>18</td>\n",
       "    </tr>\n",
       "    <tr>\n",
       "      <th>1307</th>\n",
       "      <td>2017-12-02</td>\n",
       "      <td>11158549</td>\n",
       "      <td>sku_four_599</td>\n",
       "      <td>599</td>\n",
       "      <td>2016-11-09</td>\n",
       "      <td>and</td>\n",
       "      <td>F</td>\n",
       "      <td>BRA</td>\n",
       "      <td>18</td>\n",
       "    </tr>\n",
       "    <tr>\n",
       "      <th>1308</th>\n",
       "      <td>2018-02-11</td>\n",
       "      <td>11158549</td>\n",
       "      <td>sku_four_599</td>\n",
       "      <td>599</td>\n",
       "      <td>2016-11-09</td>\n",
       "      <td>and</td>\n",
       "      <td>F</td>\n",
       "      <td>BRA</td>\n",
       "      <td>18</td>\n",
       "    </tr>\n",
       "    <tr>\n",
       "      <th>1310</th>\n",
       "      <td>2018-03-16</td>\n",
       "      <td>11158549</td>\n",
       "      <td>sku_two_299</td>\n",
       "      <td>299</td>\n",
       "      <td>2016-11-09</td>\n",
       "      <td>and</td>\n",
       "      <td>F</td>\n",
       "      <td>BRA</td>\n",
       "      <td>18</td>\n",
       "    </tr>\n",
       "  </tbody>\n",
       "</table>\n",
       "</div>"
      ],
      "text/plain": [
       "           date       uid            sku  price   reg_date device gender  \\\n",
       "1309 2018-03-13  11158549    sku_two_299    299 2016-11-09    and      F   \n",
       "1306 2017-09-25  11158549  sku_three_499    499 2016-11-09    and      F   \n",
       "1307 2017-12-02  11158549   sku_four_599    599 2016-11-09    and      F   \n",
       "1308 2018-02-11  11158549   sku_four_599    599 2016-11-09    and      F   \n",
       "1310 2018-03-16  11158549    sku_two_299    299 2016-11-09    and      F   \n",
       "\n",
       "     country  age  \n",
       "1309     BRA   18  \n",
       "1306     BRA   18  \n",
       "1307     BRA   18  \n",
       "1308     BRA   18  \n",
       "1310     BRA   18  "
      ]
     },
     "execution_count": 30,
     "metadata": {},
     "output_type": "execute_result"
    }
   ],
   "source": [
    "purchase_data = app_purchases.merge(customer_data, on='uid', how='left').sort_values(by='uid')\n",
    "purchase_data.head()"
   ]
  },
  {
   "cell_type": "code",
   "execution_count": 31,
   "metadata": {
    "ExecuteTime": {
     "end_time": "2020-09-01T03:24:25.385510Z",
     "start_time": "2020-09-01T03:24:25.357430Z"
    }
   },
   "outputs": [
    {
     "name": "stdout",
     "output_type": "stream",
     "text": [
      "407.95033407572384\n"
     ]
    }
   ],
   "source": [
    "# Extract the 'day'; value from the timestamp\n",
    "purchase_data.date = purchase_data.date.dt.floor('d')\n",
    "\n",
    "# Replace the NaN price values with 0 \n",
    "purchase_data.price = np.where(np.isnan(purchase_data.price), 0, purchase_data.price)\n",
    "\n",
    "# Aggregate the data by 'uid' & 'date'\n",
    "purchase_data_agg = purchase_data.groupby(by=['uid', 'date'], as_index=False)\n",
    "revenue_user_day = purchase_data_agg.sum()\n",
    "\n",
    "# Calculate the final average\n",
    "revenue_user_day = revenue_user_day.price.mean()\n",
    "print(revenue_user_day)"
   ]
  },
  {
   "cell_type": "code",
   "execution_count": 32,
   "metadata": {
    "ExecuteTime": {
     "end_time": "2020-09-01T03:24:25.421717Z",
     "start_time": "2020-09-01T03:24:25.397239Z"
    }
   },
   "outputs": [
    {
     "data": {
      "text/html": [
       "<div>\n",
       "<style scoped>\n",
       "    .dataframe tbody tr th:only-of-type {\n",
       "        vertical-align: middle;\n",
       "    }\n",
       "\n",
       "    .dataframe tbody tr th {\n",
       "        vertical-align: top;\n",
       "    }\n",
       "\n",
       "    .dataframe thead tr th {\n",
       "        text-align: left;\n",
       "    }\n",
       "</style>\n",
       "<table border=\"1\" class=\"dataframe\">\n",
       "  <thead>\n",
       "    <tr>\n",
       "      <th></th>\n",
       "      <th>date</th>\n",
       "      <th colspan=\"2\" halign=\"left\">price</th>\n",
       "    </tr>\n",
       "    <tr>\n",
       "      <th></th>\n",
       "      <th></th>\n",
       "      <th>sum</th>\n",
       "      <th>count</th>\n",
       "    </tr>\n",
       "  </thead>\n",
       "  <tbody>\n",
       "    <tr>\n",
       "      <th>0</th>\n",
       "      <td>2015-03-02</td>\n",
       "      <td>199</td>\n",
       "      <td>1</td>\n",
       "    </tr>\n",
       "    <tr>\n",
       "      <th>1</th>\n",
       "      <td>2015-04-04</td>\n",
       "      <td>299</td>\n",
       "      <td>1</td>\n",
       "    </tr>\n",
       "    <tr>\n",
       "      <th>2</th>\n",
       "      <td>2015-04-10</td>\n",
       "      <td>199</td>\n",
       "      <td>1</td>\n",
       "    </tr>\n",
       "    <tr>\n",
       "      <th>3</th>\n",
       "      <td>2015-04-15</td>\n",
       "      <td>1098</td>\n",
       "      <td>2</td>\n",
       "    </tr>\n",
       "    <tr>\n",
       "      <th>4</th>\n",
       "      <td>2015-05-05</td>\n",
       "      <td>299</td>\n",
       "      <td>1</td>\n",
       "    </tr>\n",
       "  </tbody>\n",
       "</table>\n",
       "</div>"
      ],
      "text/plain": [
       "        date price      \n",
       "               sum count\n",
       "0 2015-03-02   199     1\n",
       "1 2015-04-04   299     1\n",
       "2 2015-04-10   199     1\n",
       "3 2015-04-15  1098     2\n",
       "4 2015-05-05   299     1"
      ]
     },
     "execution_count": 32,
     "metadata": {},
     "output_type": "execute_result"
    }
   ],
   "source": [
    "# Group and aggregate our combined dataset \n",
    "daily_purchase_data = purchase_data.groupby(by=['date'], as_index=False)\n",
    "daily_purchase_data = daily_purchase_data.agg({'price': ['sum', 'count']})\n",
    "daily_purchase_data.head()"
   ]
  },
  {
   "cell_type": "code",
   "execution_count": 33,
   "metadata": {
    "ExecuteTime": {
     "end_time": "2020-09-01T03:24:25.442227Z",
     "start_time": "2020-09-01T03:24:25.428139Z"
    }
   },
   "outputs": [
    {
     "name": "stdout",
     "output_type": "stream",
     "text": [
      "3670735.4709418835\n",
      "9024.048096192384\n"
     ]
    }
   ],
   "source": [
    "# Find the mean of each field and then multiply by 1000 to scale the result\n",
    "daily_purchases = daily_purchase_data.price['sum'].mean()\n",
    "daily_paywall_views = daily_purchase_data.price['count'].mean()\n",
    "daily_purchases = daily_purchases * 1000\n",
    "daily_paywall_views = daily_paywall_views * 1000\n",
    "print(daily_purchases)\n",
    "print(daily_paywall_views)"
   ]
  },
  {
   "cell_type": "code",
   "execution_count": 34,
   "metadata": {
    "ExecuteTime": {
     "end_time": "2020-09-01T03:24:25.466834Z",
     "start_time": "2020-09-01T03:24:25.446409Z"
    }
   },
   "outputs": [
    {
     "data": {
      "text/html": [
       "<div>\n",
       "<style scoped>\n",
       "    .dataframe tbody tr th:only-of-type {\n",
       "        vertical-align: middle;\n",
       "    }\n",
       "\n",
       "    .dataframe tbody tr th {\n",
       "        vertical-align: top;\n",
       "    }\n",
       "\n",
       "    .dataframe thead th {\n",
       "        text-align: right;\n",
       "    }\n",
       "</style>\n",
       "<table border=\"1\" class=\"dataframe\">\n",
       "  <thead>\n",
       "    <tr style=\"text-align: right;\">\n",
       "      <th></th>\n",
       "      <th>date</th>\n",
       "      <th>uid</th>\n",
       "      <th>gender</th>\n",
       "      <th>spent</th>\n",
       "      <th>purchases</th>\n",
       "      <th>country</th>\n",
       "    </tr>\n",
       "  </thead>\n",
       "  <tbody>\n",
       "    <tr>\n",
       "      <th>0</th>\n",
       "      <td>2016-03-08</td>\n",
       "      <td>11115722</td>\n",
       "      <td>F</td>\n",
       "      <td>1595</td>\n",
       "      <td>5</td>\n",
       "      <td>MEX</td>\n",
       "    </tr>\n",
       "    <tr>\n",
       "      <th>1</th>\n",
       "      <td>2017-07-14</td>\n",
       "      <td>11122053</td>\n",
       "      <td>M</td>\n",
       "      <td>498</td>\n",
       "      <td>2</td>\n",
       "      <td>USA</td>\n",
       "    </tr>\n",
       "    <tr>\n",
       "      <th>2</th>\n",
       "      <td>2017-09-17</td>\n",
       "      <td>11128688</td>\n",
       "      <td>F</td>\n",
       "      <td>2394</td>\n",
       "      <td>6</td>\n",
       "      <td>USA</td>\n",
       "    </tr>\n",
       "    <tr>\n",
       "      <th>3</th>\n",
       "      <td>2017-11-30</td>\n",
       "      <td>11130578</td>\n",
       "      <td>F</td>\n",
       "      <td>1197</td>\n",
       "      <td>3</td>\n",
       "      <td>USA</td>\n",
       "    </tr>\n",
       "    <tr>\n",
       "      <th>4</th>\n",
       "      <td>2018-01-10</td>\n",
       "      <td>11130759</td>\n",
       "      <td>M</td>\n",
       "      <td>1297</td>\n",
       "      <td>3</td>\n",
       "      <td>ESP</td>\n",
       "    </tr>\n",
       "  </tbody>\n",
       "</table>\n",
       "</div>"
      ],
      "text/plain": [
       "         date       uid gender  spent  purchases country\n",
       "0  2016-03-08  11115722      F   1595          5     MEX\n",
       "1  2017-07-14  11122053      M    498          2     USA\n",
       "2  2017-09-17  11128688      F   2394          6     USA\n",
       "3  2017-11-30  11130578      F   1197          3     USA\n",
       "4  2018-01-10  11130759      M   1297          3     ESP"
      ]
     },
     "execution_count": 34,
     "metadata": {},
     "output_type": "execute_result"
    }
   ],
   "source": [
    "purchase = ab_test[['date', 'uid', 'gender', 'spent', 'purchases', 'country']]\n",
    "purchase.head()"
   ]
  },
  {
   "cell_type": "code",
   "execution_count": 35,
   "metadata": {
    "ExecuteTime": {
     "end_time": "2020-09-01T03:24:25.477927Z",
     "start_time": "2020-09-01T03:24:25.469955Z"
    }
   },
   "outputs": [
    {
     "name": "stdout",
     "output_type": "stream",
     "text": [
      "4.54438463047316\n",
      "3.1024539260247788\n",
      "0.6827005586676654\n"
     ]
    }
   ],
   "source": [
    "# Mean\n",
    "avg_purchase = np.mean(purchase['purchases'])\n",
    "print(avg_purchase)\n",
    "\n",
    "# Standard Dev in purchases\n",
    "purchase_var = purchase['purchases'].std()\n",
    "print(purchase_var)\n",
    "\n",
    "print(purchase_var/avg_purchase)"
   ]
  },
  {
   "cell_type": "code",
   "execution_count": 36,
   "metadata": {
    "ExecuteTime": {
     "end_time": "2020-09-01T03:24:25.489272Z",
     "start_time": "2020-09-01T03:24:25.482949Z"
    }
   },
   "outputs": [
    {
     "data": {
      "text/plain": [
       "18.835"
      ]
     },
     "execution_count": 36,
     "metadata": {},
     "output_type": "execute_result"
    }
   ],
   "source": [
    "# Price in cents\n",
    "avg_revenue = np.mean(purchase['spent'])/100\n",
    "np.round(avg_revenue,3)"
   ]
  },
  {
   "cell_type": "markdown",
   "metadata": {},
   "source": [
    "# Analyzing Data"
   ]
  },
  {
   "cell_type": "code",
   "execution_count": 37,
   "metadata": {
    "ExecuteTime": {
     "end_time": "2020-09-01T03:24:25.512480Z",
     "start_time": "2020-09-01T03:24:25.492410Z"
    }
   },
   "outputs": [
    {
     "data": {
      "text/html": [
       "<div>\n",
       "<style scoped>\n",
       "    .dataframe tbody tr th:only-of-type {\n",
       "        vertical-align: middle;\n",
       "    }\n",
       "\n",
       "    .dataframe tbody tr th {\n",
       "        vertical-align: top;\n",
       "    }\n",
       "\n",
       "    .dataframe thead th {\n",
       "        text-align: right;\n",
       "    }\n",
       "</style>\n",
       "<table border=\"1\" class=\"dataframe\">\n",
       "  <thead>\n",
       "    <tr style=\"text-align: right;\">\n",
       "      <th></th>\n",
       "      <th>uid</th>\n",
       "      <th>country</th>\n",
       "      <th>gender</th>\n",
       "      <th>spent</th>\n",
       "      <th>purchases</th>\n",
       "      <th>date</th>\n",
       "      <th>group</th>\n",
       "      <th>device</th>\n",
       "    </tr>\n",
       "  </thead>\n",
       "  <tbody>\n",
       "    <tr>\n",
       "      <th>0</th>\n",
       "      <td>11115722</td>\n",
       "      <td>MEX</td>\n",
       "      <td>F</td>\n",
       "      <td>1595</td>\n",
       "      <td>5</td>\n",
       "      <td>2016-03-08</td>\n",
       "      <td>GRP B</td>\n",
       "      <td>I</td>\n",
       "    </tr>\n",
       "    <tr>\n",
       "      <th>1</th>\n",
       "      <td>11122053</td>\n",
       "      <td>USA</td>\n",
       "      <td>M</td>\n",
       "      <td>498</td>\n",
       "      <td>2</td>\n",
       "      <td>2017-07-14</td>\n",
       "      <td>GRP B</td>\n",
       "      <td>I</td>\n",
       "    </tr>\n",
       "    <tr>\n",
       "      <th>2</th>\n",
       "      <td>11128688</td>\n",
       "      <td>USA</td>\n",
       "      <td>F</td>\n",
       "      <td>2394</td>\n",
       "      <td>6</td>\n",
       "      <td>2017-09-17</td>\n",
       "      <td>GRP A</td>\n",
       "      <td>I</td>\n",
       "    </tr>\n",
       "    <tr>\n",
       "      <th>3</th>\n",
       "      <td>11130578</td>\n",
       "      <td>USA</td>\n",
       "      <td>F</td>\n",
       "      <td>1197</td>\n",
       "      <td>3</td>\n",
       "      <td>2017-11-30</td>\n",
       "      <td>GRP A</td>\n",
       "      <td>I</td>\n",
       "    </tr>\n",
       "    <tr>\n",
       "      <th>4</th>\n",
       "      <td>11130759</td>\n",
       "      <td>ESP</td>\n",
       "      <td>M</td>\n",
       "      <td>1297</td>\n",
       "      <td>3</td>\n",
       "      <td>2018-01-10</td>\n",
       "      <td>GRP B</td>\n",
       "      <td>A</td>\n",
       "    </tr>\n",
       "  </tbody>\n",
       "</table>\n",
       "</div>"
      ],
      "text/plain": [
       "        uid country gender  spent  purchases        date  group device\n",
       "0  11115722     MEX      F   1595          5  2016-03-08  GRP B      I\n",
       "1  11122053     USA      M    498          2  2017-07-14  GRP B      I\n",
       "2  11128688     USA      F   2394          6  2017-09-17  GRP A      I\n",
       "3  11130578     USA      F   1197          3  2017-11-30  GRP A      I\n",
       "4  11130759     ESP      M   1297          3  2018-01-10  GRP B      A"
      ]
     },
     "execution_count": 37,
     "metadata": {},
     "output_type": "execute_result"
    }
   ],
   "source": [
    "ab_test.head()"
   ]
  },
  {
   "cell_type": "markdown",
   "metadata": {},
   "source": [
    "## Are the group the same size?"
   ]
  },
  {
   "cell_type": "code",
   "execution_count": 38,
   "metadata": {
    "ExecuteTime": {
     "end_time": "2020-09-01T03:24:25.541344Z",
     "start_time": "2020-09-01T03:24:25.523640Z"
    }
   },
   "outputs": [
    {
     "data": {
      "text/html": [
       "<div>\n",
       "<style scoped>\n",
       "    .dataframe tbody tr th:only-of-type {\n",
       "        vertical-align: middle;\n",
       "    }\n",
       "\n",
       "    .dataframe tbody tr th {\n",
       "        vertical-align: top;\n",
       "    }\n",
       "\n",
       "    .dataframe thead th {\n",
       "        text-align: right;\n",
       "    }\n",
       "</style>\n",
       "<table border=\"1\" class=\"dataframe\">\n",
       "  <thead>\n",
       "    <tr style=\"text-align: right;\">\n",
       "      <th></th>\n",
       "      <th>group</th>\n",
       "      <th>uid</th>\n",
       "    </tr>\n",
       "  </thead>\n",
       "  <tbody>\n",
       "    <tr>\n",
       "      <th>0</th>\n",
       "      <td>GRP A</td>\n",
       "      <td>23009</td>\n",
       "    </tr>\n",
       "    <tr>\n",
       "      <th>1</th>\n",
       "      <td>GRP B</td>\n",
       "      <td>22874</td>\n",
       "    </tr>\n",
       "  </tbody>\n",
       "</table>\n",
       "</div>"
      ],
      "text/plain": [
       "   group    uid\n",
       "0  GRP A  23009\n",
       "1  GRP B  22874"
      ]
     },
     "execution_count": 38,
     "metadata": {},
     "output_type": "execute_result"
    }
   ],
   "source": [
    "test_results_grpd = ab_test.groupby(by=['group'], as_index=False)\n",
    "test_results_grpd.uid.count()"
   ]
  },
  {
   "cell_type": "markdown",
   "metadata": {},
   "source": [
    "The group is about the same size"
   ]
  },
  {
   "cell_type": "code",
   "execution_count": 39,
   "metadata": {
    "ExecuteTime": {
     "end_time": "2020-09-01T03:24:25.563486Z",
     "start_time": "2020-09-01T03:24:25.545428Z"
    }
   },
   "outputs": [
    {
     "data": {
      "text/plain": [
       "45883"
      ]
     },
     "execution_count": 39,
     "metadata": {},
     "output_type": "execute_result"
    }
   ],
   "source": [
    "# Find the unique users in each group \n",
    "results = ab_test.groupby('group').agg({'uid': pd.Series.nunique}) \n",
    "\n",
    "# Find the overall number of unique users using \"len\" and \"unique\"\n",
    "unique_users = len(ab_test.uid.unique()) \n",
    "unique_users"
   ]
  },
  {
   "cell_type": "markdown",
   "metadata": {},
   "source": [
    "## Do our groups have similar demographics"
   ]
  },
  {
   "cell_type": "code",
   "execution_count": 40,
   "metadata": {
    "ExecuteTime": {
     "end_time": "2020-09-01T03:24:25.605989Z",
     "start_time": "2020-09-01T03:24:25.566150Z"
    }
   },
   "outputs": [
    {
     "data": {
      "text/html": [
       "<div>\n",
       "<style scoped>\n",
       "    .dataframe tbody tr th:only-of-type {\n",
       "        vertical-align: middle;\n",
       "    }\n",
       "\n",
       "    .dataframe tbody tr th {\n",
       "        vertical-align: top;\n",
       "    }\n",
       "\n",
       "    .dataframe thead th {\n",
       "        text-align: right;\n",
       "    }\n",
       "</style>\n",
       "<table border=\"1\" class=\"dataframe\">\n",
       "  <thead>\n",
       "    <tr style=\"text-align: right;\">\n",
       "      <th></th>\n",
       "      <th>country</th>\n",
       "      <th>gender</th>\n",
       "      <th>device</th>\n",
       "      <th>group</th>\n",
       "      <th>uid</th>\n",
       "    </tr>\n",
       "  </thead>\n",
       "  <tbody>\n",
       "    <tr>\n",
       "      <th>0</th>\n",
       "      <td>AUS</td>\n",
       "      <td>F</td>\n",
       "      <td>A</td>\n",
       "      <td>GRP A</td>\n",
       "      <td>134</td>\n",
       "    </tr>\n",
       "    <tr>\n",
       "      <th>1</th>\n",
       "      <td>AUS</td>\n",
       "      <td>F</td>\n",
       "      <td>A</td>\n",
       "      <td>GRP B</td>\n",
       "      <td>130</td>\n",
       "    </tr>\n",
       "    <tr>\n",
       "      <th>2</th>\n",
       "      <td>AUS</td>\n",
       "      <td>F</td>\n",
       "      <td>I</td>\n",
       "      <td>GRP A</td>\n",
       "      <td>130</td>\n",
       "    </tr>\n",
       "    <tr>\n",
       "      <th>3</th>\n",
       "      <td>AUS</td>\n",
       "      <td>F</td>\n",
       "      <td>I</td>\n",
       "      <td>GRP B</td>\n",
       "      <td>133</td>\n",
       "    </tr>\n",
       "    <tr>\n",
       "      <th>4</th>\n",
       "      <td>AUS</td>\n",
       "      <td>M</td>\n",
       "      <td>A</td>\n",
       "      <td>GRP A</td>\n",
       "      <td>133</td>\n",
       "    </tr>\n",
       "  </tbody>\n",
       "</table>\n",
       "</div>"
      ],
      "text/plain": [
       "  country gender device  group  uid\n",
       "0     AUS      F      A  GRP A  134\n",
       "1     AUS      F      A  GRP B  130\n",
       "2     AUS      F      I  GRP A  130\n",
       "3     AUS      F      I  GRP B  133\n",
       "4     AUS      M      A  GRP A  133"
      ]
     },
     "execution_count": 40,
     "metadata": {},
     "output_type": "execute_result"
    }
   ],
   "source": [
    "test_results_grpd = ab_test.groupby(by=['country', 'gender', 'device', 'group'], as_index=False)\n",
    "test_results_grpd.uid.count().head()"
   ]
  },
  {
   "cell_type": "markdown",
   "metadata": {},
   "source": [
    "## Test & Control Group Conversion Rates"
   ]
  },
  {
   "cell_type": "code",
   "execution_count": 41,
   "metadata": {
    "ExecuteTime": {
     "end_time": "2020-09-01T03:24:25.866996Z",
     "start_time": "2020-09-01T03:24:25.609349Z"
    }
   },
   "outputs": [
    {
     "data": {
      "text/plain": [
       "<matplotlib.axes._subplots.AxesSubplot at 0x7fcc43b67210>"
      ]
     },
     "execution_count": 41,
     "metadata": {},
     "output_type": "execute_result"
    },
    {
     "data": {
      "image/png": "[encoded data removed]",
      "text/plain": [
       "<Figure size 432x288 with 1 Axes>"
      ]
     },
     "metadata": {
      "needs_background": "light"
     },
     "output_type": "display_data"
    }
   ],
   "source": [
    "ab_test['purchases'].hist()"
   ]
  },
  {
   "cell_type": "code",
   "execution_count": 42,
   "metadata": {
    "ExecuteTime": {
     "end_time": "2020-09-01T03:24:25.891771Z",
     "start_time": "2020-09-01T03:24:25.869017Z"
    }
   },
   "outputs": [
    {
     "data": {
      "text/html": [
       "<div>\n",
       "<style scoped>\n",
       "    .dataframe tbody tr th:only-of-type {\n",
       "        vertical-align: middle;\n",
       "    }\n",
       "\n",
       "    .dataframe tbody tr th {\n",
       "        vertical-align: top;\n",
       "    }\n",
       "\n",
       "    .dataframe thead tr th {\n",
       "        text-align: left;\n",
       "    }\n",
       "</style>\n",
       "<table border=\"1\" class=\"dataframe\">\n",
       "  <thead>\n",
       "    <tr>\n",
       "      <th></th>\n",
       "      <th>group</th>\n",
       "      <th colspan=\"2\" halign=\"left\">purchases</th>\n",
       "      <th>conv</th>\n",
       "    </tr>\n",
       "    <tr>\n",
       "      <th></th>\n",
       "      <th></th>\n",
       "      <th>count</th>\n",
       "      <th>sum</th>\n",
       "      <th></th>\n",
       "    </tr>\n",
       "  </thead>\n",
       "  <tbody>\n",
       "    <tr>\n",
       "      <th>0</th>\n",
       "      <td>GRP A</td>\n",
       "      <td>23009</td>\n",
       "      <td>104377</td>\n",
       "      <td>0.220441</td>\n",
       "    </tr>\n",
       "    <tr>\n",
       "      <th>1</th>\n",
       "      <td>GRP B</td>\n",
       "      <td>22874</td>\n",
       "      <td>104133</td>\n",
       "      <td>0.219661</td>\n",
       "    </tr>\n",
       "  </tbody>\n",
       "</table>\n",
       "</div>"
      ],
      "text/plain": [
       "   group purchases              conv\n",
       "             count     sum          \n",
       "0  GRP A     23009  104377  0.220441\n",
       "1  GRP B     22874  104133  0.219661"
      ]
     },
     "execution_count": 42,
     "metadata": {},
     "output_type": "execute_result"
    }
   ],
   "source": [
    "ab_test_summ = ab_test.groupby(by=['group'], as_index=False).agg({'purchases': ['count', 'sum']})\n",
    "ab_test_summ['conv'] = ab_test_summ.purchases['count']/ab_test_summ.purchases['sum']\n",
    "ab_test_summ"
   ]
  },
  {
   "cell_type": "markdown",
   "metadata": {},
   "source": [
    "## Is result statistically significant?"
   ]
  },
  {
   "cell_type": "markdown",
   "metadata": {},
   "source": [
    "### Calculate p-values"
   ]
  },
  {
   "cell_type": "code",
   "execution_count": 53,
   "metadata": {
    "ExecuteTime": {
     "end_time": "2020-09-01T03:26:25.606778Z",
     "start_time": "2020-09-01T03:26:25.571776Z"
    }
   },
   "outputs": [],
   "source": [
    "def get_pvalue(con_conv, test_conv, con_size, test_size):  \n",
    "    lift =  - abs(test_conv - con_conv)\n",
    "\n",
    "    scale_one = con_conv * (1 - con_conv) * (1 / con_size)\n",
    "    scale_two = test_conv * (1 - test_conv) * (1 / test_size)\n",
    "    scale_val = (scale_one + scale_two)**0.5\n",
    "\n",
    "    p_value = 2 * norm.cdf(lift, loc = 0, scale = scale_val )\n",
    "\n",
    "    return p_value"
   ]
  },
  {
   "cell_type": "code",
   "execution_count": 59,
   "metadata": {
    "ExecuteTime": {
     "end_time": "2020-09-01T03:31:28.524213Z",
     "start_time": "2020-09-01T03:31:28.517934Z"
    }
   },
   "outputs": [
    {
     "name": "stdout",
     "output_type": "stream",
     "text": [
      "0.04900185792087508\n",
      "Significant Result\n"
     ]
    }
   ],
   "source": [
    "# Control Conversion Rate\n",
    "cont_conv = 0.09096495570387314\n",
    "# Test Conversion Rate\n",
    "test_conv = 0.1020053238686779\n",
    "# Control Group Size \n",
    "cont_size = 5329\n",
    "# Test Group Size\n",
    "test_size = 5748\n",
    "\n",
    "# Compute the p-value\n",
    "p_value = get_pvalue(con_conv=cont_conv, test_conv=test_conv, con_size=cont_size, test_size=test_size)\n",
    "print(p_value)\n",
    "\n",
    "# Check for statistical significance\n",
    "if p_value >= 0.05:\n",
    "    print(\"Not Significant\")\n",
    "else:\n",
    "    print(\"Significant Result\")"
   ]
  },
  {
   "cell_type": "markdown",
   "metadata": {},
   "source": [
    "### Confidence Interval"
   ]
  },
  {
   "cell_type": "code",
   "execution_count": 62,
   "metadata": {
    "ExecuteTime": {
     "end_time": "2020-09-01T03:37:07.822757Z",
     "start_time": "2020-09-01T03:37:07.814237Z"
    }
   },
   "outputs": [],
   "source": [
    "def get_ci(value, cl, sd):\n",
    "    loc = norm.ppf(1 - cl/2)\n",
    "    rng_val = norm.cdf(loc - value/sd)\n",
    "    \n",
    "    lwr_bnd = value - rng_val\n",
    "    upr_bnd = value + rng_val \n",
    "    \n",
    "    return_val = (lwr_bnd, upr_bnd)\n",
    "    return(return_val)"
   ]
  },
  {
   "cell_type": "code",
   "execution_count": 63,
   "metadata": {
    "ExecuteTime": {
     "end_time": "2020-09-01T03:37:10.922259Z",
     "start_time": "2020-09-01T03:37:10.913522Z"
    }
   },
   "outputs": [
    {
     "name": "stdout",
     "output_type": "stream",
     "text": [
      "(-0.01729325163576479, 0.039373987965374314)\n"
     ]
    }
   ],
   "source": [
    "# Calculate the mean of our lift distribution \n",
    "lift_mean = test_conv - cont_conv\n",
    "\n",
    "# Calculate variance and standard deviation \n",
    "lift_variance = (1 - test_conv) * test_conv /test_size + (1 - cont_conv) * cont_conv / cont_size\n",
    "lift_sd = lift_variance**0.5\n",
    "\n",
    "# Find the confidence intervals with cl = 0.95\n",
    "confidence_interval = get_ci(lift_mean, 0.95, lift_sd)\n",
    "print(confidence_interval)"
   ]
  },
  {
   "cell_type": "markdown",
   "metadata": {},
   "source": [
    "### Visualize Result"
   ]
  },
  {
   "cell_type": "code",
   "execution_count": 79,
   "metadata": {
    "ExecuteTime": {
     "end_time": "2020-09-01T03:52:16.108140Z",
     "start_time": "2020-09-01T03:52:15.843329Z"
    }
   },
   "outputs": [
    {
     "data": {
      "image/png": "[encoded data removed]",
      "text/plain": [
       "<Figure size 432x288 with 1 Axes>"
      ]
     },
     "metadata": {
      "needs_background": "light"
     },
     "output_type": "display_data"
    }
   ],
   "source": [
    "cont_var = 1.411507925080655e-06\n",
    "test_var = 1.6255542142857143e-06\n",
    "\n",
    "# Compute the standard deviations\n",
    "control_sd = cont_var**0.5\n",
    "test_sd = test_var**0.5\n",
    "\n",
    "# Create the range of x values \n",
    "control_line = np.linspace(cont_conv - 3 * control_sd, cont_conv + 3 * control_sd, 100)\n",
    "test_line = np.linspace(test_conv - 3 * test_sd ,test_conv +  3 * test_sd, 100)\n",
    "\n",
    "# Plot the distribution     \n",
    "plt.plot(control_line, norm.pdf(control_line, cont_conv, control_sd))\n",
    "plt.plot(test_line, norm.pdf(test_line, test_conv, test_sd))\n",
    "plt.show()"
   ]
  },
  {
   "cell_type": "markdown",
   "metadata": {},
   "source": [
    "We see no overlap, which intuitively implies that our test and control conversion rates are significantly distinct."
   ]
  },
  {
   "cell_type": "code",
   "execution_count": 81,
   "metadata": {
    "ExecuteTime": {
     "end_time": "2020-09-01T03:55:47.781522Z",
     "start_time": "2020-09-01T03:55:47.574052Z"
    }
   },
   "outputs": [
    {
     "data": {
      "image/png": "[encoded data removed]",
      "text/plain": [
       "<Figure size 432x288 with 1 Axes>"
      ]
     },
     "metadata": {
      "needs_background": "light"
     },
     "output_type": "display_data"
    }
   ],
   "source": [
    "# Find the lift mean and standard deviation\n",
    "lift_mean = test_conv - cont_conv\n",
    "lift_sd = (test_var + cont_var) ** 0.5\n",
    "\n",
    "# Generate the range of x-values\n",
    "lift_line = np.linspace(lift_mean - 3 * lift_sd, lift_mean + 3 * lift_sd, 100)\n",
    "\n",
    "# Plot the lift distribution\n",
    "plt.plot(lift_line, norm.pdf(lift_line, lift_mean, lift_sd))\n",
    "\n",
    "lwr_ci = 0.01103999822042502\n",
    "upr_ci = 0.011040000177957487\n",
    "\n",
    "# Add the annotation lines\n",
    "plt.axvline(x = lift_mean, color = 'green')\n",
    "plt.axvline(x = lwr_ci, color = 'red')\n",
    "plt.axvline(x = upr_ci, color = 'red')\n",
    "plt.show()"
   ]
  }
 ],
 "metadata": {
  "kernelspec": {
   "display_name": "Python 3",
   "language": "python",
   "name": "python3"
  },
  "language_info": {
   "codemirror_mode": {
    "name": "ipython",
    "version": 3
   },
   "file_extension": ".py",
   "mimetype": "text/x-python",
   "name": "python",
   "nbconvert_exporter": "python",
   "pygments_lexer": "ipython3",
   "version": "3.7.4"
  },
  "toc": {
   "base_numbering": 1,
   "nav_menu": {},
   "number_sections": true,
   "sideBar": true,
   "skip_h1_title": false,
   "title_cell": "Table of Contents",
   "title_sidebar": "Contents",
   "toc_cell": false,
   "toc_position": {
    "height": "calc(100% - 180px)",
    "left": "10px",
    "top": "150px",
    "width": "231.009px"
   },
   "toc_section_display": true,
   "toc_window_display": true
  },
  "varInspector": {
   "cols": {
    "lenName": 16,
    "lenType": 16,
    "lenVar": 40
   },
   "kernels_config": {
    "python": {
     "delete_cmd_postfix": "",
     "delete_cmd_prefix": "del ",
     "library": "var_list.py",
     "varRefreshCmd": "print(var_dic_list())"
    },
    "r": {
     "delete_cmd_postfix": ") ",
     "delete_cmd_prefix": "rm(",
     "library": "var_list.r",
     "varRefreshCmd": "cat(var_dic_list()) "
    }
   },
   "types_to_exclude": [
    "module",
    "function",
    "builtin_function_or_method",
    "instance",
    "_Feature"
   ],
   "window_display": false
  }
 },
 "nbformat": 4,
 "nbformat_minor": 2
}
